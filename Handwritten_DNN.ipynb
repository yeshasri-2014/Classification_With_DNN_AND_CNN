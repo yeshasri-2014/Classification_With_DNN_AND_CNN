{
 "cells": [
  {
   "cell_type": "code",
   "execution_count": 1,
   "metadata": {},
   "outputs": [
    {
     "name": "stderr",
     "output_type": "stream",
     "text": [
      "Using TensorFlow backend.\n"
     ]
    }
   ],
   "source": [
    "#https://medium.com/@edwardpie/building-a-cnn-for-recognising-mouse-drawn-digits-with-keras-opencv-mnist-72a7ae7a070a\n",
    "#https://github.com/hackstock/deep-ocr/blob/master/app.py\n",
    "#https://machinelearningmastery.com/how-to-develop-a-convolutional-neural-network-from-scratch-for-mnist-handwritten-digit-classification/\n",
    "from keras.datasets import mnist\n",
    "import pandas as pd\n",
    "(train_images, train_labels), (test_images, test_labels) = mnist.load_data()"
   ]
  },
  {
   "cell_type": "code",
   "execution_count": 2,
   "metadata": {},
   "outputs": [
    {
     "data": {
      "text/plain": [
       "(60000, 28, 28)"
      ]
     },
     "execution_count": 2,
     "metadata": {},
     "output_type": "execute_result"
    }
   ],
   "source": [
    "train_images.shape"
   ]
  },
  {
   "cell_type": "code",
   "execution_count": 3,
   "metadata": {},
   "outputs": [
    {
     "data": {
      "text/plain": [
       "<Figure size 640x480 with 1 Axes>"
      ]
     },
     "metadata": {},
     "output_type": "display_data"
    }
   ],
   "source": [
    "import matplotlib.pyplot as plt\n",
    "plt.imshow(train_images[0], cmap=\"gray\")\n",
    "plt.show()"
   ]
  },
  {
   "cell_type": "code",
   "execution_count": 4,
   "metadata": {},
   "outputs": [],
   "source": [
    "train_images = train_images.reshape((60000, 28 * 28))\n",
    "train_images = train_images.astype('float32') / 255\n",
    "test_images = test_images.reshape((10000, 28 * 28))\n",
    "test_images = test_images.astype('float32') / 255"
   ]
  },
  {
   "cell_type": "code",
   "execution_count": 5,
   "metadata": {},
   "outputs": [
    {
     "data": {
      "text/plain": [
       "array([5, 0, 4, 1, 9], dtype=uint8)"
      ]
     },
     "execution_count": 5,
     "metadata": {},
     "output_type": "execute_result"
    }
   ],
   "source": [
    "train_labels[:5]"
   ]
  },
  {
   "cell_type": "code",
   "execution_count": 6,
   "metadata": {},
   "outputs": [],
   "source": [
    "from keras.utils import to_categorical\n",
    "\n",
    "train_labels = to_categorical(train_labels)\n",
    "test_labels = to_categorical(test_labels)"
   ]
  },
  {
   "cell_type": "code",
   "execution_count": 7,
   "metadata": {},
   "outputs": [
    {
     "data": {
      "text/plain": [
       "array([[0., 0., 0., 0., 0., 1., 0., 0., 0., 0.],\n",
       "       [1., 0., 0., 0., 0., 0., 0., 0., 0., 0.],\n",
       "       [0., 0., 0., 0., 1., 0., 0., 0., 0., 0.],\n",
       "       [0., 1., 0., 0., 0., 0., 0., 0., 0., 0.],\n",
       "       [0., 0., 0., 0., 0., 0., 0., 0., 0., 1.]], dtype=float32)"
      ]
     },
     "execution_count": 7,
     "metadata": {},
     "output_type": "execute_result"
    }
   ],
   "source": [
    "train_labels[:5]"
   ]
  },
  {
   "cell_type": "code",
   "execution_count": 17,
   "metadata": {},
   "outputs": [],
   "source": [
    "from keras import layers\n",
    "from keras import models\n",
    "\n",
    "network = models.Sequential()\n",
    "network.add(layers.Dense(units=512,activation=\"relu\",input_shape=(28*28,)))\n",
    "network.add(layers.Dense(units=512,activation=\"relu\"))\n",
    "network.add(layers.Dense(units=10,activation=\"softmax\"))\n"
   ]
  },
  {
   "cell_type": "code",
   "execution_count": 18,
   "metadata": {},
   "outputs": [],
   "source": [
    "network.compile(optimizer=\"rmsprop\",loss=\"categorical_crossentropy\",metrics=[\"accuracy\"])"
   ]
  },
  {
   "cell_type": "code",
   "execution_count": 19,
   "metadata": {},
   "outputs": [
    {
     "name": "stdout",
     "output_type": "stream",
     "text": [
      "Epoch 1/6\n",
      "60000/60000 [==============================] - 7s 115us/step - loss: 0.2208 - accuracy: 0.9332\n",
      "Epoch 2/6\n",
      "60000/60000 [==============================] - 7s 113us/step - loss: 0.0818 - accuracy: 0.9751\n",
      "Epoch 3/6\n",
      "60000/60000 [==============================] - 7s 113us/step - loss: 0.0545 - accuracy: 0.9834\n",
      "Epoch 4/6\n",
      "60000/60000 [==============================] - 7s 114us/step - loss: 0.0401 - accuracy: 0.9873\n",
      "Epoch 5/6\n",
      "60000/60000 [==============================] - 7s 114us/step - loss: 0.0293 - accuracy: 0.9912\n",
      "Epoch 6/6\n",
      "60000/60000 [==============================] - 7s 114us/step - loss: 0.0226 - accuracy: 0.9929\n"
     ]
    }
   ],
   "source": [
    "history = network.fit(train_images,train_labels,epochs=6,shuffle=True,batch_size=128)"
   ]
  },
  {
   "cell_type": "code",
   "execution_count": 20,
   "metadata": {},
   "outputs": [
    {
     "name": "stdout",
     "output_type": "stream",
     "text": [
      "10000/10000 [==============================] - 1s 68us/step\n",
      "0.08558085544144815 0.9807000160217285\n"
     ]
    }
   ],
   "source": [
    "test_loss,test_acc = network.evaluate(test_images,test_labels)\n",
    "print(test_loss,test_acc)"
   ]
  },
  {
   "cell_type": "code",
   "execution_count": 12,
   "metadata": {},
   "outputs": [
    {
     "data": {
      "text/plain": [
       "[<matplotlib.lines.Line2D at 0x7f412000ad30>]"
      ]
     },
     "execution_count": 12,
     "metadata": {},
     "output_type": "execute_result"
    },
    {
     "data": {
      "image/png": "[encoded data removed]",
      "text/plain": [
       "<Figure size 432x288 with 1 Axes>"
      ]
     },
     "metadata": {
      "needs_background": "light"
     },
     "output_type": "display_data"
    }
   ],
   "source": [
    "import matplotlib.pyplot as plt\n",
    "plt.xlabel(\"Epcho\")\n",
    "plt.ylabel(\"Loss\")\n",
    "plt.plot(history.history['loss'])"
   ]
  },
  {
   "cell_type": "code",
   "execution_count": null,
   "metadata": {},
   "outputs": [
    {
     "name": "stdout",
     "output_type": "stream",
     "text": [
      "(150, 150)\n",
      "(28, 28)\n",
      "(1, 784)\n",
      "PREDICTION :  [[1.17769625e-35 1.26966037e-17 1.00000000e+00 2.95568403e-20\n",
      "  0.00000000e+00 1.41669203e-36 0.00000000e+00 3.66314112e-22\n",
      "  7.78269569e-30 0.00000000e+00]]\n",
      "VALUE : 2\n",
      "(150, 150)\n",
      "(28, 28)\n",
      "(1, 784)\n",
      "PREDICTION :  [[0.0000000e+00 2.0915881e-28 1.0317471e-23 1.0000000e+00 0.0000000e+00\n",
      "  5.1673561e-29 0.0000000e+00 6.3604260e-27 4.7986369e-24 5.2025284e-27]]\n",
      "VALUE : 3\n",
      "(150, 150)\n",
      "(28, 28)\n",
      "(1, 784)\n",
      "PREDICTION :  [[3.1646102e-11 6.9773520e-08 8.8783512e-05 1.5273924e-15 1.7562227e-06\n",
      "  9.9864209e-08 9.9990928e-01 2.9080406e-14 2.2423474e-10 2.9365019e-09]]\n",
      "VALUE : 6\n",
      "(150, 150)\n",
      "(28, 28)\n",
      "(1, 784)\n",
      "PREDICTION :  [[4.24710934e-28 7.82521935e-23 5.68201222e-06 3.33947280e-14\n",
      "  1.61480444e-26 1.99871239e-22 1.35813578e-36 9.99994278e-01\n",
      "  4.89714248e-22 1.22237706e-20]]\n",
      "VALUE : 7\n",
      "(150, 150)\n",
      "(28, 28)\n",
      "(1, 784)\n",
      "PREDICTION :  [[8.5074274e-11 1.3699895e-09 2.8859542e-03 9.7672302e-01 1.2774457e-07\n",
      "  1.3667425e-13 9.7374695e-12 2.5754787e-07 2.0157101e-02 2.3356496e-04]]\n",
      "VALUE : 3\n",
      "(150, 150)\n",
      "(28, 28)\n",
      "(1, 784)\n",
      "PREDICTION :  [[5.8589912e-25 5.4014635e-27 3.7362500e-12 8.2447017e-20 3.5878697e-20\n",
      "  5.5639160e-20 5.8826014e-23 7.3722063e-11 1.2070824e-14 1.0000000e+00]]\n",
      "VALUE : 9\n",
      "(150, 150)\n",
      "(28, 28)\n",
      "(1, 784)\n",
      "PREDICTION :  [[1.3097309e-22 5.8593736e-17 9.9994683e-01 1.9336719e-14 3.0655648e-30\n",
      "  1.2178244e-18 5.8916460e-18 4.6594369e-23 5.3112493e-05 9.9966486e-23]]\n",
      "VALUE : 2\n",
      "(150, 150)\n",
      "(28, 28)\n",
      "(1, 784)\n",
      "PREDICTION :  [[4.5034273e-17 2.6724006e-16 9.9999130e-01 6.5431809e-06 3.5992978e-28\n",
      "  1.4627458e-25 7.6896339e-24 2.2078864e-06 7.4495793e-17 9.0305024e-19]]\n",
      "VALUE : 2\n",
      "(150, 150)\n",
      "(28, 28)\n",
      "(1, 784)\n",
      "PREDICTION :  [[3.6658987e-20 1.0000000e+00 7.0491876e-13 5.7099535e-14 3.2465684e-12\n",
      "  1.1635702e-15 1.4360846e-13 2.7588489e-13 1.4684380e-11 1.7929587e-13]]\n",
      "VALUE : 1\n",
      "(150, 150)\n",
      "(28, 28)\n",
      "(1, 784)\n",
      "PREDICTION :  [[0.0000000e+00 0.0000000e+00 0.0000000e+00 1.8306508e-15 1.6906093e-38\n",
      "  1.0000000e+00 1.8075542e-33 1.3317880e-14 0.0000000e+00 1.7420651e-18]]\n",
      "VALUE : 5\n",
      "(150, 150)\n",
      "(28, 28)\n",
      "(1, 784)\n",
      "PREDICTION :  [[6.24875306e-15 2.91613433e-15 1.82516132e-07 5.98553223e-21\n",
      "  1.88475279e-22 2.67781784e-19 9.99999762e-01 1.25910016e-20\n",
      "  1.31908102e-15 7.50744419e-31]]\n",
      "VALUE : 6\n",
      "(150, 150)\n",
      "(28, 28)\n",
      "(1, 784)\n",
      "PREDICTION :  [[2.0322293e-20 3.4393831e-06 3.0064994e-06 2.3528638e-12 3.7715608e-11\n",
      "  1.1793623e-10 1.0578949e-01 9.7043792e-13 8.9420408e-01 1.3527035e-20]]\n",
      "VALUE : 8\n"
     ]
    }
   ],
   "source": [
    "import cv2\n",
    "import numpy as np\n",
    "#from model import NeuralNet\n",
    "\n",
    "#net = NeuralNet()\n",
    "\n",
    "# creating a 600 x 600 pixels canvas for mouse drawing\n",
    "canvas = np.ones((150,150), dtype=\"uint8\") * 255\n",
    "# designating a 400 x 400 pixels point of interest on which digits will be drawn\n",
    "canvas[:,:] = 0\n",
    "\n",
    "start_point = None\n",
    "end_point = None\n",
    "is_drawing = False\n",
    "\n",
    "label = np.arange(0,10)\n",
    "\n",
    "def draw_line(img,start_at,end_at):\n",
    "    cv2.line(img,start_at,end_at,255,15)\n",
    "\n",
    "def on_mouse_events(event,x,y,flags,params):\n",
    "    global start_point\n",
    "    global end_point\n",
    "    global canvas\n",
    "    global is_drawing\n",
    "    if event == cv2.EVENT_LBUTTONDOWN:\n",
    "        if is_drawing:\n",
    "            start_point = (x,y)\n",
    "    elif event == cv2.EVENT_MOUSEMOVE:\n",
    "        if is_drawing:\n",
    "            end_point = (x,y)\n",
    "            draw_line(canvas,start_point,end_point)\n",
    "            start_point = end_point\n",
    "    elif event == cv2.EVENT_LBUTTONUP:\n",
    "        is_drawing = False\n",
    "\n",
    "\n",
    "cv2.namedWindow(\"Test Canvas\")\n",
    "cv2.setMouseCallback(\"Test Canvas\", on_mouse_events)\n",
    "\n",
    "\n",
    "while(True):\n",
    "    cv2.imshow(\"Test Canvas\", canvas)\n",
    "    key = cv2.waitKey(1) & 0xFF \n",
    "    if key == ord('q'):\n",
    "        break\n",
    "    elif key == ord('s'):\n",
    "        is_drawing = True\n",
    "    elif key == ord('c'):\n",
    "        canvas[:,:] = 0\n",
    "    elif key == ord('p'):\n",
    "        image = canvas[:,:]\n",
    "        dimension = image.shape\n",
    "        print(dimension)\n",
    "        \n",
    "        #image = cv2.resize(image,(28,28)).flatten()\n",
    "        image = cv2.resize(image,(28,28))\n",
    "        image = image.astype('float32') / 255\n",
    "        \n",
    "        dimension = image.shape\n",
    "        print(dimension)\n",
    "        \n",
    "        g = image.reshape(1,(28*28))\n",
    "        dimension = g.shape\n",
    "        print(dimension)\n",
    "        \n",
    "        result = network.predict(g)\n",
    "        #result = 0\n",
    "        print(\"PREDICTION : \",result)\n",
    "        index = result.argmax()\n",
    "        print(\"VALUE :\",label[index])\n",
    "\n",
    "cv2.destroyAllWindows()  "
   ]
  }
 ],
 "metadata": {
  "kernelspec": {
   "display_name": "Python 3",
   "language": "python",
   "name": "python3"
  },
  "language_info": {
   "codemirror_mode": {
    "name": "ipython",
    "version": 3
   },
   "file_extension": ".py",
   "mimetype": "text/x-python",
   "name": "python",
   "nbconvert_exporter": "python",
   "pygments_lexer": "ipython3",
   "version": "3.6.8"
  }
 },
 "nbformat": 4,
 "nbformat_minor": 2
}
