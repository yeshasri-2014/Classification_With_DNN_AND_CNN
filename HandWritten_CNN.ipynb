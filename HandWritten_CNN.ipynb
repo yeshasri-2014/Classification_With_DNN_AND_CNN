{
 "cells": [
  {
   "cell_type": "code",
   "execution_count": null,
   "metadata": {},
   "outputs": [],
   "source": [
    "from keras.datasets import mnist\n",
    "import pandas as pd\n",
    "from keras.utils import to_categorical\n",
    "(train_images, train_labels), (test_images, test_labels) = mnist.load_data()"
   ]
  },
  {
   "cell_type": "code",
   "execution_count": null,
   "metadata": {},
   "outputs": [],
   "source": [
    "import matplotlib.pyplot as plt\n",
    "i = 1\n",
    "plt.imshow(train_images[i],cmap=plt.cm.binary)\n",
    "plt.show()\n",
    "print(train_labels[i])"
   ]
  },
  {
   "cell_type": "code",
   "execution_count": null,
   "metadata": {},
   "outputs": [],
   "source": [
    "train_images = train_images.reshape((60000,28,28,1))\n",
    "test_images = test_images.reshape((10000,28,28,1))\n",
    "\n",
    "train_images = train_images.astype('float32') / 255\n",
    "test_images = test_images.astype('float32') / 255\n",
    "\n",
    "train_labels = to_categorical(train_labels)\n",
    "test_labels = to_categorical(test_labels)\n",
    "                                                           "
   ]
  },
  {
   "cell_type": "code",
   "execution_count": null,
   "metadata": {},
   "outputs": [],
   "source": [
    "from keras import layers\n",
    "from keras import models\n",
    "\n",
    "network = models.Sequential()\n",
    "network.add(layers.Conv2D(32,(3,3),input_shape=(28,28,1),activation=\"relu\"))\n",
    "network.add(layers.MaxPooling2D((2,2)))\n",
    "\n",
    "network.add(layers.Conv2D(64, (3,3), activation=\"relu\"))\n",
    "network.add(layers.MaxPooling2D((2,2)))\n",
    "\n",
    "network.add(layers.Conv2D(64, (3,3), activation=\"relu\"))\n",
    "network.add(layers.MaxPooling2D((2,2)))\n",
    "\n",
    "#network.add(layers.Conv2D(128,(3,3),activation=\"relu\"))\n",
    "network.add(layers.Flatten())\n",
    "network.add(layers.Dense(units=32,activation=\"relu\"))\n",
    "network.add(layers.Dense(units=10,activation=\"softmax\"))"
   ]
  },
  {
   "cell_type": "code",
   "execution_count": null,
   "metadata": {},
   "outputs": [],
   "source": [
    "network.summary()"
   ]
  },
  {
   "cell_type": "code",
   "execution_count": null,
   "metadata": {},
   "outputs": [],
   "source": [
    "network.compile(optimizer=\"rmsprop\",loss=\"categorical_crossentropy\",metrics=[\"accuracy\"])"
   ]
  },
  {
   "cell_type": "code",
   "execution_count": null,
   "metadata": {},
   "outputs": [],
   "source": [
    "history = network.fit(train_images,train_labels,epochs=10,shuffle=True,batch_size=128)"
   ]
  },
  {
   "cell_type": "code",
   "execution_count": null,
   "metadata": {},
   "outputs": [],
   "source": [
    "test_loss,test_acc = network.evaluate(test_images,test_labels)\n",
    "print(test_loss,test_acc)"
   ]
  },
  {
   "cell_type": "code",
   "execution_count": null,
   "metadata": {},
   "outputs": [],
   "source": [
    "import matplotlib.pyplot as plt\n",
    "plt.xlabel(\"Epcho\")\n",
    "plt.ylabel(\"Loss\")\n",
    "plt.plot(history.history['loss'])"
   ]
  },
  {
   "cell_type": "code",
   "execution_count": null,
   "metadata": {},
   "outputs": [],
   "source": [
    "network.save('ccn.h5')"
   ]
  },
  {
   "cell_type": "code",
   "execution_count": 1,
   "metadata": {},
   "outputs": [
    {
     "name": "stderr",
     "output_type": "stream",
     "text": [
      "Using TensorFlow backend.\n",
      "WARNING: Logging before flag parsing goes to stderr.\n",
      "W1030 21:56:10.319877 140586193127232 deprecation_wrapper.py:119] From /usr/local/lib/python3.6/dist-packages/keras/backend/tensorflow_backend.py:4070: The name tf.nn.max_pool is deprecated. Please use tf.nn.max_pool2d instead.\n",
      "\n",
      "W1030 21:56:11.080842 140586193127232 deprecation_wrapper.py:119] From /usr/local/lib/python3.6/dist-packages/keras/backend/tensorflow_backend.py:422: The name tf.global_variables is deprecated. Please use tf.compat.v1.global_variables instead.\n",
      "\n"
     ]
    },
    {
     "name": "stdout",
     "output_type": "stream",
     "text": [
      "(150, 150)\n",
      "(28, 28)\n",
      "(1, 28, 28, 1)\n",
      "PREDICTION :  [[3.2055516e-09 9.9999845e-01 5.1600540e-07 5.0963561e-10 9.2866446e-07\n",
      "  1.6413669e-08 1.4925651e-07 8.6107290e-09 8.0769091e-10 1.4072871e-11]]\n",
      "VALUE : 1\n",
      "(150, 150)\n",
      "(28, 28)\n",
      "(1, 28, 28, 1)\n",
      "PREDICTION :  [[3.9080792e-06 3.5697482e-07 9.9809307e-01 8.7901353e-06 9.9355506e-13\n",
      "  7.7973250e-10 9.1907801e-12 1.8939023e-03 7.2547661e-09 2.7936933e-09]]\n",
      "VALUE : 2\n",
      "(150, 150)\n",
      "(28, 28)\n",
      "(1, 28, 28, 1)\n",
      "PREDICTION :  [[6.4316065e-12 1.4089306e-10 1.6642730e-06 9.9999774e-01 1.4028963e-11\n",
      "  5.7251516e-11 2.9549564e-12 1.6718067e-10 6.1989135e-07 2.3039316e-08]]\n",
      "VALUE : 3\n",
      "(150, 150)\n",
      "(28, 28)\n",
      "(1, 28, 28, 1)\n",
      "PREDICTION :  [[5.0169028e-08 1.4555683e-10 2.1604651e-08 2.4272083e-13 9.2464513e-01\n",
      "  1.1828160e-06 7.5350001e-02 2.0432042e-10 4.8800208e-10 3.5962130e-06]]\n",
      "VALUE : 4\n",
      "(150, 150)\n",
      "(28, 28)\n",
      "(1, 28, 28, 1)\n",
      "PREDICTION :  [[6.53259562e-08 1.15289835e-11 2.22142660e-07 3.82843609e-05\n",
      "  1.08094533e-10 9.99954462e-01 1.99796872e-08 4.46736799e-08\n",
      "  2.38558826e-08 6.77100297e-06]]\n",
      "VALUE : 5\n",
      "(150, 150)\n",
      "(28, 28)\n",
      "(1, 28, 28, 1)\n",
      "PREDICTION :  [[2.6382163e-02 2.2393051e-13 3.5552663e-04 1.2728785e-14 3.6249064e-09\n",
      "  3.3262222e-06 9.7325766e-01 2.1946136e-11 1.2657623e-06 4.9373650e-10]]\n",
      "VALUE : 6\n",
      "(150, 150)\n",
      "(28, 28)\n",
      "(1, 28, 28, 1)\n",
      "PREDICTION :  [[6.12226519e-11 2.13163872e-07 4.08842567e-07 8.88725140e-07\n",
      "  3.99814662e-14 1.25552875e-11 2.44774965e-18 9.99998569e-01\n",
      "  2.12429293e-12 1.53193325e-09]]\n",
      "VALUE : 7\n",
      "(150, 150)\n",
      "(28, 28)\n",
      "(1, 28, 28, 1)\n",
      "PREDICTION :  [[6.0581705e-13 1.0905075e-15 3.9572826e-10 4.1749668e-10 9.2476343e-10\n",
      "  4.3822194e-13 8.1218254e-15 3.2291574e-13 1.0000000e+00 7.9737647e-11]]\n",
      "VALUE : 8\n",
      "(150, 150)\n",
      "(28, 28)\n",
      "(1, 28, 28, 1)\n",
      "PREDICTION :  [[2.2698757e-12 2.4974793e-07 1.7034617e-10 3.8582832e-05 8.2523466e-06\n",
      "  2.3340085e-09 2.4098478e-17 3.3911408e-04 5.8490480e-07 9.9961323e-01]]\n",
      "VALUE : 9\n",
      "(150, 150)\n",
      "(28, 28)\n",
      "(1, 28, 28, 1)\n",
      "PREDICTION :  [[1.0000000e+00 1.3897533e-19 4.6872169e-13 3.2351318e-20 3.1169312e-14\n",
      "  1.5974364e-13 1.2095677e-09 8.9456247e-14 6.2513154e-12 1.4944924e-08]]\n",
      "VALUE : 0\n"
     ]
    }
   ],
   "source": [
    "import cv2\n",
    "import numpy as np\n",
    "from keras.models import load_model\n",
    "#from model import NeuralNet\n",
    "\n",
    "#net = NeuralNet()\n",
    "\n",
    "model = load_model('ccn.h5')\n",
    "# creating a 600 x 600 pixels canvas for mouse drawing\n",
    "canvas = np.ones((150,150), dtype=\"uint8\") * 255\n",
    "# designating a 400 x 400 pixels point of interest on which digits will be drawn\n",
    "canvas[:,:] = 0\n",
    "\n",
    "start_point = None\n",
    "end_point = None\n",
    "is_drawing = False\n",
    "\n",
    "label = np.arange(0,10)\n",
    "\n",
    "def draw_line(img,start_at,end_at):\n",
    "    cv2.line(img,start_at,end_at,255,15)\n",
    "\n",
    "def on_mouse_events(event,x,y,flags,params):\n",
    "    global start_point\n",
    "    global end_point\n",
    "    global canvas\n",
    "    global is_drawing\n",
    "    if event == cv2.EVENT_LBUTTONDOWN:\n",
    "        if is_drawing:\n",
    "            start_point = (x,y)\n",
    "    elif event == cv2.EVENT_MOUSEMOVE:\n",
    "        if is_drawing:\n",
    "            end_point = (x,y)\n",
    "            draw_line(canvas,start_point,end_point)\n",
    "            start_point = end_point\n",
    "    elif event == cv2.EVENT_LBUTTONUP:\n",
    "        is_drawing = False\n",
    "\n",
    "\n",
    "cv2.namedWindow(\"Test Canvas\")\n",
    "cv2.setMouseCallback(\"Test Canvas\", on_mouse_events)\n",
    "\n",
    "\n",
    "while(True):\n",
    "    cv2.imshow(\"Test Canvas\", canvas)\n",
    "    key = cv2.waitKey(1) & 0xFF \n",
    "    if key == ord('q'):\n",
    "        break\n",
    "    elif key == ord('s'):\n",
    "        is_drawing = True\n",
    "    elif key == ord('c'):\n",
    "        canvas[:,:] = 0\n",
    "    elif key == ord('p'):\n",
    "        image = canvas[:,:]\n",
    "        dimension = image.shape\n",
    "        print(dimension)\n",
    "        \n",
    "        #image = cv2.resize(image,(28,28)).flatten()\n",
    "        image = cv2.resize(image,(28,28))\n",
    "        image = image.astype('float32') / 255\n",
    "        \n",
    "        dimension = image.shape\n",
    "        print(dimension)\n",
    "        \n",
    "        g = image.reshape(1,28,28,1)\n",
    "        dimension = g.shape\n",
    "        print(dimension)\n",
    "        \n",
    "        result = model.predict(g)\n",
    "        #result = 0\n",
    "        print(\"PREDICTION : \",result)\n",
    "        index = result.argmax()\n",
    "        print(\"VALUE :\",label[index])\n",
    "\n",
    "cv2.destroyAllWindows()  "
   ]
  }
 ],
 "metadata": {
  "kernelspec": {
   "display_name": "Python 3",
   "language": "python",
   "name": "python3"
  },
  "language_info": {
   "codemirror_mode": {
    "name": "ipython",
    "version": 3
   },
   "file_extension": ".py",
   "mimetype": "text/x-python",
   "name": "python",
   "nbconvert_exporter": "python",
   "pygments_lexer": "ipython3",
   "version": "3.6.8"
  }
 },
 "nbformat": 4,
 "nbformat_minor": 2
}
